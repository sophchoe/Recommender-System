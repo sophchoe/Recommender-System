{
 "cells": [
  {
   "cell_type": "markdown",
   "id": "93c986db",
   "metadata": {},
   "source": [
    "## Movie recommender system"
   ]
  },
  {
   "cell_type": "markdown",
   "id": "f72154f1",
   "metadata": {},
   "source": [
    "Reference: https://www.nickmccullum.com/python-machine-learning/recommendation-systems-python/"
   ]
  },
  {
   "cell_type": "code",
   "execution_count": 25,
   "id": "ae3fbe25",
   "metadata": {},
   "outputs": [],
   "source": [
    "import pandas as pd\n",
    "import numpy as np\n",
    "\n",
    "import matplotlib.pyplot as plt\n",
    "import seaborn as sns\n",
    "%matplotlib inline"
   ]
  },
  {
   "cell_type": "code",
   "execution_count": 26,
   "id": "ce444efb",
   "metadata": {},
   "outputs": [
    {
     "data": {
      "text/html": [
       "<div>\n",
       "<style scoped>\n",
       "    .dataframe tbody tr th:only-of-type {\n",
       "        vertical-align: middle;\n",
       "    }\n",
       "\n",
       "    .dataframe tbody tr th {\n",
       "        vertical-align: top;\n",
       "    }\n",
       "\n",
       "    .dataframe thead th {\n",
       "        text-align: right;\n",
       "    }\n",
       "</style>\n",
       "<table border=\"1\" class=\"dataframe\">\n",
       "  <thead>\n",
       "    <tr style=\"text-align: right;\">\n",
       "      <th></th>\n",
       "      <th>user_id</th>\n",
       "      <th>item_id</th>\n",
       "      <th>rating</th>\n",
       "      <th>timestamp</th>\n",
       "    </tr>\n",
       "  </thead>\n",
       "  <tbody>\n",
       "    <tr>\n",
       "      <th>0</th>\n",
       "      <td>0</td>\n",
       "      <td>50</td>\n",
       "      <td>5</td>\n",
       "      <td>881250949</td>\n",
       "    </tr>\n",
       "    <tr>\n",
       "      <th>1</th>\n",
       "      <td>0</td>\n",
       "      <td>172</td>\n",
       "      <td>5</td>\n",
       "      <td>881250949</td>\n",
       "    </tr>\n",
       "    <tr>\n",
       "      <th>2</th>\n",
       "      <td>0</td>\n",
       "      <td>133</td>\n",
       "      <td>1</td>\n",
       "      <td>881250949</td>\n",
       "    </tr>\n",
       "    <tr>\n",
       "      <th>3</th>\n",
       "      <td>196</td>\n",
       "      <td>242</td>\n",
       "      <td>3</td>\n",
       "      <td>881250949</td>\n",
       "    </tr>\n",
       "    <tr>\n",
       "      <th>4</th>\n",
       "      <td>186</td>\n",
       "      <td>302</td>\n",
       "      <td>3</td>\n",
       "      <td>891717742</td>\n",
       "    </tr>\n",
       "  </tbody>\n",
       "</table>\n",
       "</div>"
      ],
      "text/plain": [
       "   user_id  item_id  rating  timestamp\n",
       "0        0       50       5  881250949\n",
       "1        0      172       5  881250949\n",
       "2        0      133       1  881250949\n",
       "3      196      242       3  881250949\n",
       "4      186      302       3  891717742"
      ]
     },
     "execution_count": 26,
     "metadata": {},
     "output_type": "execute_result"
    }
   ],
   "source": [
    "# item id but no movie titles\n",
    "raw_data = pd.read_csv('u.data', sep = '\\t', names = ['user_id', 'item_id', 'rating', 'timestamp'])\n",
    "raw_data.head()"
   ]
  },
  {
   "cell_type": "code",
   "execution_count": 27,
   "id": "ab2e86d5",
   "metadata": {},
   "outputs": [
    {
     "data": {
      "text/html": [
       "<div>\n",
       "<style scoped>\n",
       "    .dataframe tbody tr th:only-of-type {\n",
       "        vertical-align: middle;\n",
       "    }\n",
       "\n",
       "    .dataframe tbody tr th {\n",
       "        vertical-align: top;\n",
       "    }\n",
       "\n",
       "    .dataframe thead th {\n",
       "        text-align: right;\n",
       "    }\n",
       "</style>\n",
       "<table border=\"1\" class=\"dataframe\">\n",
       "  <thead>\n",
       "    <tr style=\"text-align: right;\">\n",
       "      <th></th>\n",
       "      <th>item_id</th>\n",
       "      <th>title</th>\n",
       "    </tr>\n",
       "  </thead>\n",
       "  <tbody>\n",
       "    <tr>\n",
       "      <th>0</th>\n",
       "      <td>1</td>\n",
       "      <td>Toy Story (1995)</td>\n",
       "    </tr>\n",
       "    <tr>\n",
       "      <th>1</th>\n",
       "      <td>2</td>\n",
       "      <td>GoldenEye (1995)</td>\n",
       "    </tr>\n",
       "    <tr>\n",
       "      <th>2</th>\n",
       "      <td>3</td>\n",
       "      <td>Four Rooms (1995)</td>\n",
       "    </tr>\n",
       "    <tr>\n",
       "      <th>3</th>\n",
       "      <td>4</td>\n",
       "      <td>Get Shorty (1995)</td>\n",
       "    </tr>\n",
       "    <tr>\n",
       "      <th>4</th>\n",
       "      <td>5</td>\n",
       "      <td>Copycat (1995)</td>\n",
       "    </tr>\n",
       "  </tbody>\n",
       "</table>\n",
       "</div>"
      ],
      "text/plain": [
       "   item_id              title\n",
       "0        1   Toy Story (1995)\n",
       "1        2   GoldenEye (1995)\n",
       "2        3  Four Rooms (1995)\n",
       "3        4  Get Shorty (1995)\n",
       "4        5     Copycat (1995)"
      ]
     },
     "execution_count": 27,
     "metadata": {},
     "output_type": "execute_result"
    }
   ],
   "source": [
    "# movie titles organized by item id\n",
    "movie_titles_data = pd.read_csv('Movie_Id_Titles')\n",
    "movie_titles_data.head()"
   ]
  },
  {
   "cell_type": "code",
   "execution_count": 28,
   "id": "d9d3559b",
   "metadata": {},
   "outputs": [
    {
     "data": {
      "text/html": [
       "<div>\n",
       "<style scoped>\n",
       "    .dataframe tbody tr th:only-of-type {\n",
       "        vertical-align: middle;\n",
       "    }\n",
       "\n",
       "    .dataframe tbody tr th {\n",
       "        vertical-align: top;\n",
       "    }\n",
       "\n",
       "    .dataframe thead th {\n",
       "        text-align: right;\n",
       "    }\n",
       "</style>\n",
       "<table border=\"1\" class=\"dataframe\">\n",
       "  <thead>\n",
       "    <tr style=\"text-align: right;\">\n",
       "      <th></th>\n",
       "      <th>user_id</th>\n",
       "      <th>item_id</th>\n",
       "      <th>rating</th>\n",
       "      <th>timestamp</th>\n",
       "      <th>title</th>\n",
       "    </tr>\n",
       "  </thead>\n",
       "  <tbody>\n",
       "    <tr>\n",
       "      <th>0</th>\n",
       "      <td>0</td>\n",
       "      <td>50</td>\n",
       "      <td>5</td>\n",
       "      <td>881250949</td>\n",
       "      <td>Star Wars (1977)</td>\n",
       "    </tr>\n",
       "    <tr>\n",
       "      <th>1</th>\n",
       "      <td>290</td>\n",
       "      <td>50</td>\n",
       "      <td>5</td>\n",
       "      <td>880473582</td>\n",
       "      <td>Star Wars (1977)</td>\n",
       "    </tr>\n",
       "    <tr>\n",
       "      <th>2</th>\n",
       "      <td>79</td>\n",
       "      <td>50</td>\n",
       "      <td>4</td>\n",
       "      <td>891271545</td>\n",
       "      <td>Star Wars (1977)</td>\n",
       "    </tr>\n",
       "    <tr>\n",
       "      <th>3</th>\n",
       "      <td>2</td>\n",
       "      <td>50</td>\n",
       "      <td>5</td>\n",
       "      <td>888552084</td>\n",
       "      <td>Star Wars (1977)</td>\n",
       "    </tr>\n",
       "    <tr>\n",
       "      <th>4</th>\n",
       "      <td>8</td>\n",
       "      <td>50</td>\n",
       "      <td>5</td>\n",
       "      <td>879362124</td>\n",
       "      <td>Star Wars (1977)</td>\n",
       "    </tr>\n",
       "  </tbody>\n",
       "</table>\n",
       "</div>"
      ],
      "text/plain": [
       "   user_id  item_id  rating  timestamp             title\n",
       "0        0       50       5  881250949  Star Wars (1977)\n",
       "1      290       50       5  880473582  Star Wars (1977)\n",
       "2       79       50       4  891271545  Star Wars (1977)\n",
       "3        2       50       5  888552084  Star Wars (1977)\n",
       "4        8       50       5  879362124  Star Wars (1977)"
      ]
     },
     "execution_count": 28,
     "metadata": {},
     "output_type": "execute_result"
    }
   ],
   "source": [
    "# merge them by item id\n",
    "merged_data = pd.merge(raw_data, movie_titles_data, on='item_id')\n",
    "merged_data.head()"
   ]
  },
  {
   "cell_type": "code",
   "execution_count": 29,
   "id": "e83e8e62",
   "metadata": {},
   "outputs": [
    {
     "data": {
      "text/plain": [
       "title\n",
       "They Made Me a Criminal (1939)                  5.0\n",
       "Marlene Dietrich: Shadow and Light (1996)       5.0\n",
       "Saint of Fort Washington, The (1993)            5.0\n",
       "Someone Else's America (1995)                   5.0\n",
       "Star Kid (1997)                                 5.0\n",
       "                                               ... \n",
       "Eye of Vichy, The (Oeil de Vichy, L') (1993)    1.0\n",
       "King of New York (1990)                         1.0\n",
       "Touki Bouki (Journey of the Hyena) (1973)       1.0\n",
       "Bloody Child, The (1996)                        1.0\n",
       "Crude Oasis, The (1995)                         1.0\n",
       "Name: rating, Length: 1664, dtype: float64"
      ]
     },
     "execution_count": 29,
     "metadata": {},
     "output_type": "execute_result"
    }
   ],
   "source": [
    "# Each user gave a rating. Now we want average rating per movie sorted\n",
    "merged_data.groupby('title')['rating'].mean().sort_values(ascending = False)"
   ]
  },
  {
   "cell_type": "code",
   "execution_count": 30,
   "id": "dc8a9d99",
   "metadata": {},
   "outputs": [
    {
     "data": {
      "text/plain": [
       "title\n",
       "Star Wars (1977)                      584\n",
       "Contact (1997)                        509\n",
       "Fargo (1996)                          508\n",
       "Return of the Jedi (1983)             507\n",
       "Liar Liar (1997)                      485\n",
       "                                     ... \n",
       "Great Day in Harlem, A (1994)           1\n",
       "Other Voices, Other Rooms (1997)        1\n",
       "Good Morning (1971)                     1\n",
       "Girls Town (1996)                       1\n",
       "Á köldum klaka (Cold Fever) (1994)      1\n",
       "Name: rating, Length: 1664, dtype: int64"
      ]
     },
     "execution_count": 30,
     "metadata": {},
     "output_type": "execute_result"
    }
   ],
   "source": [
    "# Now we want the rate count per movie sorted\n",
    "merged_data.groupby('title')['rating'].count().sort_values(ascending = False)"
   ]
  },
  {
   "cell_type": "code",
   "execution_count": 31,
   "id": "767ff27a",
   "metadata": {},
   "outputs": [
    {
     "data": {
      "text/html": [
       "<div>\n",
       "<style scoped>\n",
       "    .dataframe tbody tr th:only-of-type {\n",
       "        vertical-align: middle;\n",
       "    }\n",
       "\n",
       "    .dataframe tbody tr th {\n",
       "        vertical-align: top;\n",
       "    }\n",
       "\n",
       "    .dataframe thead th {\n",
       "        text-align: right;\n",
       "    }\n",
       "</style>\n",
       "<table border=\"1\" class=\"dataframe\">\n",
       "  <thead>\n",
       "    <tr style=\"text-align: right;\">\n",
       "      <th></th>\n",
       "      <th>rating</th>\n",
       "    </tr>\n",
       "    <tr>\n",
       "      <th>title</th>\n",
       "      <th></th>\n",
       "    </tr>\n",
       "  </thead>\n",
       "  <tbody>\n",
       "    <tr>\n",
       "      <th>'Til There Was You (1997)</th>\n",
       "      <td>2.333333</td>\n",
       "    </tr>\n",
       "    <tr>\n",
       "      <th>1-900 (1994)</th>\n",
       "      <td>2.600000</td>\n",
       "    </tr>\n",
       "    <tr>\n",
       "      <th>101 Dalmatians (1996)</th>\n",
       "      <td>2.908257</td>\n",
       "    </tr>\n",
       "    <tr>\n",
       "      <th>12 Angry Men (1957)</th>\n",
       "      <td>4.344000</td>\n",
       "    </tr>\n",
       "    <tr>\n",
       "      <th>187 (1997)</th>\n",
       "      <td>3.024390</td>\n",
       "    </tr>\n",
       "  </tbody>\n",
       "</table>\n",
       "</div>"
      ],
      "text/plain": [
       "                             rating\n",
       "title                              \n",
       "'Til There Was You (1997)  2.333333\n",
       "1-900 (1994)               2.600000\n",
       "101 Dalmatians (1996)      2.908257\n",
       "12 Angry Men (1957)        4.344000\n",
       "187 (1997)                 3.024390"
      ]
     },
     "execution_count": 31,
     "metadata": {},
     "output_type": "execute_result"
    }
   ],
   "source": [
    "# We want a separate dataframe with average rating only per movie\n",
    "ratings_data = pd.DataFrame(merged_data.groupby('title')['rating'].mean())\n",
    "ratings_data.head()"
   ]
  },
  {
   "cell_type": "code",
   "execution_count": 33,
   "id": "5198511f",
   "metadata": {},
   "outputs": [
    {
     "data": {
      "text/html": [
       "<div>\n",
       "<style scoped>\n",
       "    .dataframe tbody tr th:only-of-type {\n",
       "        vertical-align: middle;\n",
       "    }\n",
       "\n",
       "    .dataframe tbody tr th {\n",
       "        vertical-align: top;\n",
       "    }\n",
       "\n",
       "    .dataframe thead th {\n",
       "        text-align: right;\n",
       "    }\n",
       "</style>\n",
       "<table border=\"1\" class=\"dataframe\">\n",
       "  <thead>\n",
       "    <tr style=\"text-align: right;\">\n",
       "      <th></th>\n",
       "      <th>rating</th>\n",
       "      <th># of ratings</th>\n",
       "    </tr>\n",
       "    <tr>\n",
       "      <th>title</th>\n",
       "      <th></th>\n",
       "      <th></th>\n",
       "    </tr>\n",
       "  </thead>\n",
       "  <tbody>\n",
       "    <tr>\n",
       "      <th>'Til There Was You (1997)</th>\n",
       "      <td>2.333333</td>\n",
       "      <td>9</td>\n",
       "    </tr>\n",
       "    <tr>\n",
       "      <th>1-900 (1994)</th>\n",
       "      <td>2.600000</td>\n",
       "      <td>5</td>\n",
       "    </tr>\n",
       "    <tr>\n",
       "      <th>101 Dalmatians (1996)</th>\n",
       "      <td>2.908257</td>\n",
       "      <td>109</td>\n",
       "    </tr>\n",
       "    <tr>\n",
       "      <th>12 Angry Men (1957)</th>\n",
       "      <td>4.344000</td>\n",
       "      <td>125</td>\n",
       "    </tr>\n",
       "    <tr>\n",
       "      <th>187 (1997)</th>\n",
       "      <td>3.024390</td>\n",
       "      <td>41</td>\n",
       "    </tr>\n",
       "  </tbody>\n",
       "</table>\n",
       "</div>"
      ],
      "text/plain": [
       "                             rating  # of ratings\n",
       "title                                            \n",
       "'Til There Was You (1997)  2.333333             9\n",
       "1-900 (1994)               2.600000             5\n",
       "101 Dalmatians (1996)      2.908257           109\n",
       "12 Angry Men (1957)        4.344000           125\n",
       "187 (1997)                 3.024390            41"
      ]
     },
     "execution_count": 33,
     "metadata": {},
     "output_type": "execute_result"
    }
   ],
   "source": [
    "# We add the rating count as another column\n",
    "ratings_data['# of ratings'] = merged_data.groupby('title')['rating'].count()\n",
    "ratings_data.head()"
   ]
  },
  {
   "cell_type": "code",
   "execution_count": 34,
   "id": "da5528f1",
   "metadata": {},
   "outputs": [
    {
     "name": "stderr",
     "output_type": "stream",
     "text": [
      "/Users/sophiechoe/opt/anaconda3/lib/python3.9/site-packages/seaborn/distributions.py:2619: FutureWarning: `distplot` is a deprecated function and will be removed in a future version. Please adapt your code to use either `displot` (a figure-level function with similar flexibility) or `histplot` (an axes-level function for histograms).\n",
      "  warnings.warn(msg, FutureWarning)\n"
     ]
    },
    {
     "data": {
      "text/plain": [
       "<AxesSubplot:xlabel='# of ratings', ylabel='Density'>"
      ]
     },
     "execution_count": 34,
     "metadata": {},
     "output_type": "execute_result"
    },
    {
     "data": {
      "image/png": "[encoded data removed]",
      "text/plain": [
       "<Figure size 432x288 with 1 Axes>"
      ]
     },
     "metadata": {
      "needs_background": "light"
     },
     "output_type": "display_data"
    }
   ],
   "source": [
    "# Plot the density distribution of number of ratings. Most of the movies got very few ratings.\n",
    "sns.distplot(ratings_data['# of ratings'])"
   ]
  },
  {
   "cell_type": "code",
   "execution_count": 35,
   "id": "9a0444d3",
   "metadata": {},
   "outputs": [
    {
     "name": "stderr",
     "output_type": "stream",
     "text": [
      "/Users/sophiechoe/opt/anaconda3/lib/python3.9/site-packages/seaborn/distributions.py:2619: FutureWarning: `distplot` is a deprecated function and will be removed in a future version. Please adapt your code to use either `displot` (a figure-level function with similar flexibility) or `histplot` (an axes-level function for histograms).\n",
      "  warnings.warn(msg, FutureWarning)\n"
     ]
    },
    {
     "data": {
      "text/plain": [
       "<AxesSubplot:xlabel='rating', ylabel='Density'>"
      ]
     },
     "execution_count": 35,
     "metadata": {},
     "output_type": "execute_result"
    },
    {
     "data": {
      "image/png": "[encoded data removed]",
      "text/plain": [
       "<Figure size 432x288 with 1 Axes>"
      ]
     },
     "metadata": {
      "needs_background": "light"
     },
     "output_type": "display_data"
    }
   ],
   "source": [
    "# Plot the rating values. Most of the movies got between 3 and 4.\n",
    "sns.distplot(ratings_data['rating'])"
   ]
  },
  {
   "cell_type": "code",
   "execution_count": 36,
   "id": "f8c751b5",
   "metadata": {},
   "outputs": [
    {
     "data": {
      "text/plain": [
       "<seaborn.axisgrid.JointGrid at 0x7ff5bf7d5d00>"
      ]
     },
     "execution_count": 36,
     "metadata": {},
     "output_type": "execute_result"
    },
    {
     "data": {
      "image/png": "[encoded data removed]",
      "text/plain": [
       "<Figure size 432x432 with 3 Axes>"
      ]
     },
     "metadata": {
      "needs_background": "light"
     },
     "output_type": "display_data"
    }
   ],
   "source": [
    "# We want to see the relationship between rating and the number of ratings. The higher the number of ratings, the higher the rating.\n",
    "\n",
    "sns.jointplot(x = ratings_data['rating'], y = ratings_data['# of ratings'])"
   ]
  },
  {
   "cell_type": "code",
   "execution_count": 37,
   "id": "0cee5822",
   "metadata": {},
   "outputs": [
    {
     "name": "stdout",
     "output_type": "stream",
     "text": [
      "title    'Til There Was You (1997)  1-900 (1994)  101 Dalmatians (1996)  \\\n",
      "user_id                                                                   \n",
      "0                              NaN           NaN                    NaN   \n",
      "1                              NaN           NaN                    2.0   \n",
      "2                              NaN           NaN                    NaN   \n",
      "3                              NaN           NaN                    NaN   \n",
      "4                              NaN           NaN                    NaN   \n",
      "...                            ...           ...                    ...   \n",
      "939                            NaN           NaN                    NaN   \n",
      "940                            NaN           NaN                    NaN   \n",
      "941                            NaN           NaN                    NaN   \n",
      "942                            NaN           NaN                    NaN   \n",
      "943                            NaN           NaN                    NaN   \n",
      "\n",
      "title    12 Angry Men (1957)  187 (1997)  2 Days in the Valley (1996)  \\\n",
      "user_id                                                                 \n",
      "0                        NaN         NaN                          NaN   \n",
      "1                        5.0         NaN                          NaN   \n",
      "2                        NaN         NaN                          NaN   \n",
      "3                        NaN         2.0                          NaN   \n",
      "4                        NaN         NaN                          NaN   \n",
      "...                      ...         ...                          ...   \n",
      "939                      NaN         NaN                          NaN   \n",
      "940                      NaN         NaN                          NaN   \n",
      "941                      NaN         NaN                          NaN   \n",
      "942                      NaN         NaN                          NaN   \n",
      "943                      NaN         NaN                          2.0   \n",
      "\n",
      "title    20,000 Leagues Under the Sea (1954)  2001: A Space Odyssey (1968)  \\\n",
      "user_id                                                                      \n",
      "0                                        NaN                           NaN   \n",
      "1                                        3.0                           4.0   \n",
      "2                                        NaN                           NaN   \n",
      "3                                        NaN                           NaN   \n",
      "4                                        NaN                           NaN   \n",
      "...                                      ...                           ...   \n",
      "939                                      NaN                           NaN   \n",
      "940                                      NaN                           NaN   \n",
      "941                                      NaN                           NaN   \n",
      "942                                      NaN                           3.0   \n",
      "943                                      NaN                           NaN   \n",
      "\n",
      "title    3 Ninjas: High Noon At Mega Mountain (1998)  39 Steps, The (1935)  \\\n",
      "user_id                                                                      \n",
      "0                                                NaN                   NaN   \n",
      "1                                                NaN                   NaN   \n",
      "2                                                1.0                   NaN   \n",
      "3                                                NaN                   NaN   \n",
      "4                                                NaN                   NaN   \n",
      "...                                              ...                   ...   \n",
      "939                                              NaN                   NaN   \n",
      "940                                              NaN                   NaN   \n",
      "941                                              NaN                   NaN   \n",
      "942                                              NaN                   3.0   \n",
      "943                                              NaN                   NaN   \n",
      "\n",
      "title    ...  Yankee Zulu (1994)  Year of the Horse (1997)  \\\n",
      "user_id  ...                                                 \n",
      "0        ...                 NaN                       NaN   \n",
      "1        ...                 NaN                       NaN   \n",
      "2        ...                 NaN                       NaN   \n",
      "3        ...                 NaN                       NaN   \n",
      "4        ...                 NaN                       NaN   \n",
      "...      ...                 ...                       ...   \n",
      "939      ...                 NaN                       NaN   \n",
      "940      ...                 NaN                       NaN   \n",
      "941      ...                 NaN                       NaN   \n",
      "942      ...                 NaN                       NaN   \n",
      "943      ...                 NaN                       NaN   \n",
      "\n",
      "title    You So Crazy (1994)  Young Frankenstein (1974)  Young Guns (1988)  \\\n",
      "user_id                                                                      \n",
      "0                        NaN                        NaN                NaN   \n",
      "1                        NaN                        5.0                3.0   \n",
      "2                        NaN                        NaN                NaN   \n",
      "3                        NaN                        NaN                NaN   \n",
      "4                        NaN                        NaN                NaN   \n",
      "...                      ...                        ...                ...   \n",
      "939                      NaN                        NaN                NaN   \n",
      "940                      NaN                        NaN                NaN   \n",
      "941                      NaN                        NaN                NaN   \n",
      "942                      NaN                        NaN                NaN   \n",
      "943                      NaN                        NaN                4.0   \n",
      "\n",
      "title    Young Guns II (1990)  Young Poisoner's Handbook, The (1995)  \\\n",
      "user_id                                                                \n",
      "0                         NaN                                    NaN   \n",
      "1                         NaN                                    NaN   \n",
      "2                         NaN                                    NaN   \n",
      "3                         NaN                                    NaN   \n",
      "4                         NaN                                    NaN   \n",
      "...                       ...                                    ...   \n",
      "939                       NaN                                    NaN   \n",
      "940                       NaN                                    NaN   \n",
      "941                       NaN                                    NaN   \n",
      "942                       NaN                                    NaN   \n",
      "943                       3.0                                    NaN   \n",
      "\n",
      "title    Zeus and Roxanne (1997)  unknown  Á köldum klaka (Cold Fever) (1994)  \n",
      "user_id                                                                        \n",
      "0                            NaN      NaN                                 NaN  \n",
      "1                            NaN      4.0                                 NaN  \n",
      "2                            NaN      NaN                                 NaN  \n",
      "3                            NaN      NaN                                 NaN  \n",
      "4                            NaN      NaN                                 NaN  \n",
      "...                          ...      ...                                 ...  \n",
      "939                          NaN      NaN                                 NaN  \n",
      "940                          NaN      NaN                                 NaN  \n",
      "941                          NaN      NaN                                 NaN  \n",
      "942                          NaN      NaN                                 NaN  \n",
      "943                          NaN      NaN                                 NaN  \n",
      "\n",
      "[944 rows x 1664 columns]\n"
     ]
    }
   ],
   "source": [
    "# List of ratings per movie per user\n",
    "ratings_matrix = merged_data.pivot_table(index='user_id',columns='title',values='rating')\n",
    "print(ratings_matrix)"
   ]
  },
  {
   "cell_type": "code",
   "execution_count": 38,
   "id": "54727109",
   "metadata": {},
   "outputs": [
    {
     "data": {
      "text/plain": [
       "user_id\n",
       "0    NaN\n",
       "1    5.0\n",
       "2    4.0\n",
       "3    NaN\n",
       "4    NaN\n",
       "Name: Toy Story (1995), dtype: float64"
      ]
     },
     "execution_count": 38,
     "metadata": {},
     "output_type": "execute_result"
    }
   ],
   "source": [
    "# Select the \"toy_story\" column. Some users did not rate the movie.\n",
    "toy_story_user_ratings = ratings_matrix['Toy Story (1995)']\n",
    "toy_story_user_ratings.head(5)"
   ]
  },
  {
   "cell_type": "code",
   "execution_count": 39,
   "id": "67e9e850",
   "metadata": {},
   "outputs": [
    {
     "name": "stderr",
     "output_type": "stream",
     "text": [
      "/Users/sophiechoe/opt/anaconda3/lib/python3.9/site-packages/numpy/lib/function_base.py:2683: RuntimeWarning: Degrees of freedom <= 0 for slice\n",
      "  c = cov(x, y, rowvar, dtype=dtype)\n",
      "/Users/sophiechoe/opt/anaconda3/lib/python3.9/site-packages/numpy/lib/function_base.py:2542: RuntimeWarning: divide by zero encountered in true_divide\n",
      "  c *= np.true_divide(1, fact)\n"
     ]
    },
    {
     "data": {
      "text/plain": [
       "0.18709230116786776"
      ]
     },
     "execution_count": 39,
     "metadata": {},
     "output_type": "execute_result"
    }
   ],
   "source": [
    "# Find correlation with 'Return of the Jedi (1983)'\n",
    "ratings_matrix.corrwith(toy_story_user_ratings)['Return of the Jedi (1983)']"
   ]
  },
  {
   "cell_type": "code",
   "execution_count": 41,
   "id": "aeb86b4d",
   "metadata": {},
   "outputs": [
    {
     "name": "stderr",
     "output_type": "stream",
     "text": [
      "/Users/sophiechoe/opt/anaconda3/lib/python3.9/site-packages/numpy/lib/function_base.py:2683: RuntimeWarning: Degrees of freedom <= 0 for slice\n",
      "  c = cov(x, y, rowvar, dtype=dtype)\n",
      "/Users/sophiechoe/opt/anaconda3/lib/python3.9/site-packages/numpy/lib/function_base.py:2542: RuntimeWarning: divide by zero encountered in true_divide\n",
      "  c *= np.true_divide(1, fact)\n"
     ]
    },
    {
     "data": {
      "text/html": [
       "<div>\n",
       "<style scoped>\n",
       "    .dataframe tbody tr th:only-of-type {\n",
       "        vertical-align: middle;\n",
       "    }\n",
       "\n",
       "    .dataframe tbody tr th {\n",
       "        vertical-align: top;\n",
       "    }\n",
       "\n",
       "    .dataframe thead th {\n",
       "        text-align: right;\n",
       "    }\n",
       "</style>\n",
       "<table border=\"1\" class=\"dataframe\">\n",
       "  <thead>\n",
       "    <tr style=\"text-align: right;\">\n",
       "      <th></th>\n",
       "      <th>0</th>\n",
       "    </tr>\n",
       "    <tr>\n",
       "      <th>title</th>\n",
       "      <th></th>\n",
       "    </tr>\n",
       "  </thead>\n",
       "  <tbody>\n",
       "    <tr>\n",
       "      <th>Stripes (1981)</th>\n",
       "      <td>1.0</td>\n",
       "    </tr>\n",
       "    <tr>\n",
       "      <th>Guantanamera (1994)</th>\n",
       "      <td>1.0</td>\n",
       "    </tr>\n",
       "    <tr>\n",
       "      <th>Manny &amp; Lo (1996)</th>\n",
       "      <td>1.0</td>\n",
       "    </tr>\n",
       "    <tr>\n",
       "      <th>Quiet Room, The (1996)</th>\n",
       "      <td>1.0</td>\n",
       "    </tr>\n",
       "    <tr>\n",
       "      <th>Return of the Jedi (1983)</th>\n",
       "      <td>1.0</td>\n",
       "    </tr>\n",
       "    <tr>\n",
       "      <th>A Chef in Love (1996)</th>\n",
       "      <td>1.0</td>\n",
       "    </tr>\n",
       "    <tr>\n",
       "      <th>Cosi (1996)</th>\n",
       "      <td>1.0</td>\n",
       "    </tr>\n",
       "    <tr>\n",
       "      <th>Mrs. Dalloway (1997)</th>\n",
       "      <td>1.0</td>\n",
       "    </tr>\n",
       "    <tr>\n",
       "      <th>King of the Hill (1993)</th>\n",
       "      <td>1.0</td>\n",
       "    </tr>\n",
       "    <tr>\n",
       "      <th>Wedding Gift, The (1994)</th>\n",
       "      <td>1.0</td>\n",
       "    </tr>\n",
       "    <tr>\n",
       "      <th>Line King: Al Hirschfeld, The (1996)</th>\n",
       "      <td>1.0</td>\n",
       "    </tr>\n",
       "    <tr>\n",
       "      <th>Golden Earrings (1947)</th>\n",
       "      <td>1.0</td>\n",
       "    </tr>\n",
       "    <tr>\n",
       "      <th>Locusts, The (1997)</th>\n",
       "      <td>1.0</td>\n",
       "    </tr>\n",
       "    <tr>\n",
       "      <th>Kicked in the Head (1997)</th>\n",
       "      <td>1.0</td>\n",
       "    </tr>\n",
       "    <tr>\n",
       "      <th>Losing Chase (1996)</th>\n",
       "      <td>1.0</td>\n",
       "    </tr>\n",
       "  </tbody>\n",
       "</table>\n",
       "</div>"
      ],
      "text/plain": [
       "                                        0\n",
       "title                                    \n",
       "Stripes (1981)                        1.0\n",
       "Guantanamera (1994)                   1.0\n",
       "Manny & Lo (1996)                     1.0\n",
       "Quiet Room, The (1996)                1.0\n",
       "Return of the Jedi (1983)             1.0\n",
       "A Chef in Love (1996)                 1.0\n",
       "Cosi (1996)                           1.0\n",
       "Mrs. Dalloway (1997)                  1.0\n",
       "King of the Hill (1993)               1.0\n",
       "Wedding Gift, The (1994)              1.0\n",
       "Line King: Al Hirschfeld, The (1996)  1.0\n",
       "Golden Earrings (1947)                1.0\n",
       "Locusts, The (1997)                   1.0\n",
       "Kicked in the Head (1997)             1.0\n",
       "Losing Chase (1996)                   1.0"
      ]
     },
     "execution_count": 41,
     "metadata": {},
     "output_type": "execute_result"
    }
   ],
   "source": [
    "# Create a new dataframe containing the correlation value per movie with Star Wars.\n",
    "# Seemingly distant movies showing high correlation values is because the same user may have watched liked both.\n",
    "\n",
    "correlation_with_star_wars = pd.DataFrame(ratings_matrix.corrwith(star_wars_user_ratings))\n",
    "correlation_with_star_wars.dropna().sort_values(0, ascending = False).head(15)"
   ]
  },
  {
   "cell_type": "code",
   "execution_count": 42,
   "id": "d1ae0b25",
   "metadata": {},
   "outputs": [],
   "source": [
    "# Add number of ratings to the correlation dataframe\n",
    "correlation_with_star_wars = correlation_with_star_wars.join(ratings_data['# of ratings'])"
   ]
  },
  {
   "cell_type": "code",
   "execution_count": 45,
   "id": "3a0c8331",
   "metadata": {},
   "outputs": [
    {
     "data": {
      "text/html": [
       "<div>\n",
       "<style scoped>\n",
       "    .dataframe tbody tr th:only-of-type {\n",
       "        vertical-align: middle;\n",
       "    }\n",
       "\n",
       "    .dataframe tbody tr th {\n",
       "        vertical-align: top;\n",
       "    }\n",
       "\n",
       "    .dataframe thead th {\n",
       "        text-align: right;\n",
       "    }\n",
       "</style>\n",
       "<table border=\"1\" class=\"dataframe\">\n",
       "  <thead>\n",
       "    <tr style=\"text-align: right;\">\n",
       "      <th></th>\n",
       "      <th>Corr. With SW Ratings</th>\n",
       "      <th># of Ratings</th>\n",
       "    </tr>\n",
       "    <tr>\n",
       "      <th>Movie Title</th>\n",
       "      <th></th>\n",
       "      <th></th>\n",
       "    </tr>\n",
       "  </thead>\n",
       "  <tbody>\n",
       "    <tr>\n",
       "      <th>'Til There Was You (1997)</th>\n",
       "      <td>1.000000</td>\n",
       "      <td>9</td>\n",
       "    </tr>\n",
       "    <tr>\n",
       "      <th>1-900 (1994)</th>\n",
       "      <td>-0.828079</td>\n",
       "      <td>5</td>\n",
       "    </tr>\n",
       "    <tr>\n",
       "      <th>101 Dalmatians (1996)</th>\n",
       "      <td>0.165659</td>\n",
       "      <td>109</td>\n",
       "    </tr>\n",
       "    <tr>\n",
       "      <th>12 Angry Men (1957)</th>\n",
       "      <td>-0.026169</td>\n",
       "      <td>125</td>\n",
       "    </tr>\n",
       "    <tr>\n",
       "      <th>187 (1997)</th>\n",
       "      <td>0.064155</td>\n",
       "      <td>41</td>\n",
       "    </tr>\n",
       "    <tr>\n",
       "      <th>2 Days in the Valley (1996)</th>\n",
       "      <td>0.047452</td>\n",
       "      <td>93</td>\n",
       "    </tr>\n",
       "    <tr>\n",
       "      <th>20,000 Leagues Under the Sea (1954)</th>\n",
       "      <td>0.104229</td>\n",
       "      <td>72</td>\n",
       "    </tr>\n",
       "    <tr>\n",
       "      <th>2001: A Space Odyssey (1968)</th>\n",
       "      <td>0.085975</td>\n",
       "      <td>259</td>\n",
       "    </tr>\n",
       "    <tr>\n",
       "      <th>3 Ninjas: High Noon At Mega Mountain (1998)</th>\n",
       "      <td>NaN</td>\n",
       "      <td>5</td>\n",
       "    </tr>\n",
       "    <tr>\n",
       "      <th>39 Steps, The (1935)</th>\n",
       "      <td>0.218723</td>\n",
       "      <td>59</td>\n",
       "    </tr>\n",
       "    <tr>\n",
       "      <th>8 1/2 (1963)</th>\n",
       "      <td>-0.188022</td>\n",
       "      <td>38</td>\n",
       "    </tr>\n",
       "    <tr>\n",
       "      <th>8 Heads in a Duffel Bag (1997)</th>\n",
       "      <td>0.522233</td>\n",
       "      <td>4</td>\n",
       "    </tr>\n",
       "    <tr>\n",
       "      <th>8 Seconds (1994)</th>\n",
       "      <td>-0.755929</td>\n",
       "      <td>4</td>\n",
       "    </tr>\n",
       "    <tr>\n",
       "      <th>A Chef in Love (1996)</th>\n",
       "      <td>1.000000</td>\n",
       "      <td>8</td>\n",
       "    </tr>\n",
       "    <tr>\n",
       "      <th>Above the Rim (1994)</th>\n",
       "      <td>-0.645497</td>\n",
       "      <td>5</td>\n",
       "    </tr>\n",
       "    <tr>\n",
       "      <th>Absolute Power (1997)</th>\n",
       "      <td>0.206409</td>\n",
       "      <td>127</td>\n",
       "    </tr>\n",
       "    <tr>\n",
       "      <th>Abyss, The (1989)</th>\n",
       "      <td>0.271018</td>\n",
       "      <td>151</td>\n",
       "    </tr>\n",
       "    <tr>\n",
       "      <th>Ace Ventura: Pet Detective (1994)</th>\n",
       "      <td>0.142141</td>\n",
       "      <td>103</td>\n",
       "    </tr>\n",
       "    <tr>\n",
       "      <th>Ace Ventura: When Nature Calls (1995)</th>\n",
       "      <td>-0.030593</td>\n",
       "      <td>37</td>\n",
       "    </tr>\n",
       "    <tr>\n",
       "      <th>Across the Sea of Time (1995)</th>\n",
       "      <td>NaN</td>\n",
       "      <td>4</td>\n",
       "    </tr>\n",
       "  </tbody>\n",
       "</table>\n",
       "</div>"
      ],
      "text/plain": [
       "                                             Corr. With SW Ratings  \\\n",
       "Movie Title                                                          \n",
       "'Til There Was You (1997)                                 1.000000   \n",
       "1-900 (1994)                                             -0.828079   \n",
       "101 Dalmatians (1996)                                     0.165659   \n",
       "12 Angry Men (1957)                                      -0.026169   \n",
       "187 (1997)                                                0.064155   \n",
       "2 Days in the Valley (1996)                               0.047452   \n",
       "20,000 Leagues Under the Sea (1954)                       0.104229   \n",
       "2001: A Space Odyssey (1968)                              0.085975   \n",
       "3 Ninjas: High Noon At Mega Mountain (1998)                    NaN   \n",
       "39 Steps, The (1935)                                      0.218723   \n",
       "8 1/2 (1963)                                             -0.188022   \n",
       "8 Heads in a Duffel Bag (1997)                            0.522233   \n",
       "8 Seconds (1994)                                         -0.755929   \n",
       "A Chef in Love (1996)                                     1.000000   \n",
       "Above the Rim (1994)                                     -0.645497   \n",
       "Absolute Power (1997)                                     0.206409   \n",
       "Abyss, The (1989)                                         0.271018   \n",
       "Ace Ventura: Pet Detective (1994)                         0.142141   \n",
       "Ace Ventura: When Nature Calls (1995)                    -0.030593   \n",
       "Across the Sea of Time (1995)                                  NaN   \n",
       "\n",
       "                                             # of Ratings  \n",
       "Movie Title                                                \n",
       "'Til There Was You (1997)                               9  \n",
       "1-900 (1994)                                            5  \n",
       "101 Dalmatians (1996)                                 109  \n",
       "12 Angry Men (1957)                                   125  \n",
       "187 (1997)                                             41  \n",
       "2 Days in the Valley (1996)                            93  \n",
       "20,000 Leagues Under the Sea (1954)                    72  \n",
       "2001: A Space Odyssey (1968)                          259  \n",
       "3 Ninjas: High Noon At Mega Mountain (1998)             5  \n",
       "39 Steps, The (1935)                                   59  \n",
       "8 1/2 (1963)                                           38  \n",
       "8 Heads in a Duffel Bag (1997)                          4  \n",
       "8 Seconds (1994)                                        4  \n",
       "A Chef in Love (1996)                                   8  \n",
       "Above the Rim (1994)                                    5  \n",
       "Absolute Power (1997)                                 127  \n",
       "Abyss, The (1989)                                     151  \n",
       "Ace Ventura: Pet Detective (1994)                     103  \n",
       "Ace Ventura: When Nature Calls (1995)                  37  \n",
       "Across the Sea of Time (1995)                           4  "
      ]
     },
     "execution_count": 45,
     "metadata": {},
     "output_type": "execute_result"
    }
   ],
   "source": [
    "# Rename the columns and index by movie title\n",
    "correlation_with_star_wars.columns = ['Corr. With SW Ratings', '# of Ratings']\n",
    "correlation_with_star_wars.index.names = ['Movie Title']\n",
    "correlation_with_star_wars.head(20)"
   ]
  },
  {
   "cell_type": "code",
   "execution_count": 46,
   "id": "319184d8",
   "metadata": {},
   "outputs": [
    {
     "data": {
      "text/html": [
       "<div>\n",
       "<style scoped>\n",
       "    .dataframe tbody tr th:only-of-type {\n",
       "        vertical-align: middle;\n",
       "    }\n",
       "\n",
       "    .dataframe tbody tr th {\n",
       "        vertical-align: top;\n",
       "    }\n",
       "\n",
       "    .dataframe thead th {\n",
       "        text-align: right;\n",
       "    }\n",
       "</style>\n",
       "<table border=\"1\" class=\"dataframe\">\n",
       "  <thead>\n",
       "    <tr style=\"text-align: right;\">\n",
       "      <th></th>\n",
       "      <th>Corr. With SW Ratings</th>\n",
       "      <th># of Ratings</th>\n",
       "    </tr>\n",
       "    <tr>\n",
       "      <th>Movie Title</th>\n",
       "      <th></th>\n",
       "      <th></th>\n",
       "    </tr>\n",
       "  </thead>\n",
       "  <tbody>\n",
       "    <tr>\n",
       "      <th>Return of the Jedi (1983)</th>\n",
       "      <td>1.000000</td>\n",
       "      <td>507</td>\n",
       "    </tr>\n",
       "    <tr>\n",
       "      <th>Empire Strikes Back, The (1980)</th>\n",
       "      <td>0.721229</td>\n",
       "      <td>368</td>\n",
       "    </tr>\n",
       "    <tr>\n",
       "      <th>Star Wars (1977)</th>\n",
       "      <td>0.672556</td>\n",
       "      <td>584</td>\n",
       "    </tr>\n",
       "    <tr>\n",
       "      <th>Manon of the Spring (Manon des sources) (1986)</th>\n",
       "      <td>0.483421</td>\n",
       "      <td>58</td>\n",
       "    </tr>\n",
       "    <tr>\n",
       "      <th>Sabrina (1954)</th>\n",
       "      <td>0.468079</td>\n",
       "      <td>64</td>\n",
       "    </tr>\n",
       "    <tr>\n",
       "      <th>Raiders of the Lost Ark (1981)</th>\n",
       "      <td>0.467391</td>\n",
       "      <td>420</td>\n",
       "    </tr>\n",
       "    <tr>\n",
       "      <th>Giant (1956)</th>\n",
       "      <td>0.448247</td>\n",
       "      <td>51</td>\n",
       "    </tr>\n",
       "    <tr>\n",
       "      <th>Restoration (1995)</th>\n",
       "      <td>0.439437</td>\n",
       "      <td>71</td>\n",
       "    </tr>\n",
       "    <tr>\n",
       "      <th>Things to Do in Denver when You're Dead (1995)</th>\n",
       "      <td>0.436042</td>\n",
       "      <td>71</td>\n",
       "    </tr>\n",
       "    <tr>\n",
       "      <th>Indiana Jones and the Last Crusade (1989)</th>\n",
       "      <td>0.422294</td>\n",
       "      <td>331</td>\n",
       "    </tr>\n",
       "  </tbody>\n",
       "</table>\n",
       "</div>"
      ],
      "text/plain": [
       "                                                Corr. With SW Ratings  \\\n",
       "Movie Title                                                             \n",
       "Return of the Jedi (1983)                                    1.000000   \n",
       "Empire Strikes Back, The (1980)                              0.721229   \n",
       "Star Wars (1977)                                             0.672556   \n",
       "Manon of the Spring (Manon des sources) (1986)               0.483421   \n",
       "Sabrina (1954)                                               0.468079   \n",
       "Raiders of the Lost Ark (1981)                               0.467391   \n",
       "Giant (1956)                                                 0.448247   \n",
       "Restoration (1995)                                           0.439437   \n",
       "Things to Do in Denver when You're Dead (1995)               0.436042   \n",
       "Indiana Jones and the Last Crusade (1989)                    0.422294   \n",
       "\n",
       "                                                # of Ratings  \n",
       "Movie Title                                                   \n",
       "Return of the Jedi (1983)                                507  \n",
       "Empire Strikes Back, The (1980)                          368  \n",
       "Star Wars (1977)                                         584  \n",
       "Manon of the Spring (Manon des sources) (1986)            58  \n",
       "Sabrina (1954)                                            64  \n",
       "Raiders of the Lost Ark (1981)                           420  \n",
       "Giant (1956)                                              51  \n",
       "Restoration (1995)                                        71  \n",
       "Things to Do in Denver when You're Dead (1995)            71  \n",
       "Indiana Jones and the Last Crusade (1989)                331  "
      ]
     },
     "execution_count": 46,
     "metadata": {},
     "output_type": "execute_result"
    }
   ],
   "source": [
    "# Select only the ones with # of ratings greater than 50 and sort in descending order\n",
    "# Now the movies seem to be more in the same genre\n",
    "correlation_with_star_wars[correlation_with_star_wars['# of Ratings'] > 50].sort_values('Corr. With SW Ratings', ascending = False).head(10)"
   ]
  },
  {
   "cell_type": "code",
   "execution_count": null,
   "id": "0f5e32f3",
   "metadata": {},
   "outputs": [],
   "source": []
  }
 ],
 "metadata": {
  "kernelspec": {
   "display_name": "Python 3 (ipykernel)",
   "language": "python",
   "name": "python3"
  },
  "language_info": {
   "codemirror_mode": {
    "name": "ipython",
    "version": 3
   },
   "file_extension": ".py",
   "mimetype": "text/x-python",
   "name": "python",
   "nbconvert_exporter": "python",
   "pygments_lexer": "ipython3",
   "version": "3.9.12"
  }
 },
 "nbformat": 4,
 "nbformat_minor": 5
}
